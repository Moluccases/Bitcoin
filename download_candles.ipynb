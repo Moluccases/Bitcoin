{
 "cells": [
  {
   "cell_type": "code",
   "execution_count": 1,
   "metadata": {},
   "outputs": [],
   "source": [
    "import sys\n",
    "sys.path.append(\"E:\\\\Document\\\\bitcoin\\\\trade-executor\")"
   ]
  },
  {
   "cell_type": "code",
   "execution_count": 9,
   "metadata": {},
   "outputs": [],
   "source": [
    "import pandas as pd"
   ]
  },
  {
   "cell_type": "code",
   "execution_count": 2,
   "metadata": {},
   "outputs": [
    {
     "name": "stdout",
     "output_type": "stream",
     "text": [
      "Started Trading Strategy in Jupyter notebook environment, configuration is stored in C:\\Users\\DESKTOP/.tradingstrategy\n"
     ]
    },
    {
     "name": "stderr",
     "output_type": "stream",
     "text": [
      "c:\\Users\\DESKTOP\\anaconda3\\envs\\py310\\lib\\site-packages\\tqdm\\auto.py:22: TqdmWarning: IProgress not found. Please update jupyter and ipywidgets. See https://ipywidgets.readthedocs.io/en/stable/user_install.html\n",
      "  from .autonotebook import tqdm as notebook_tqdm\n"
     ]
    }
   ],
   "source": [
    "from tradingstrategy.client import Client\n",
    "\n",
    "client = Client.create_jupyter_client()"
   ]
  },
  {
   "cell_type": "markdown",
   "metadata": {},
   "source": [
    "## Check Top Pairs"
   ]
  },
  {
   "cell_type": "code",
   "execution_count": 14,
   "metadata": {},
   "outputs": [],
   "source": [
    "from tradingstrategy.exchange import ExchangeUniverse\n",
    "columnar_pair_table = client.fetch_pair_universe()\n",
    "all_pairs_dataframe = columnar_pair_table.to_pandas()\n",
    "universe = client.fetch_exchange_universe()"
   ]
  },
  {
   "cell_type": "code",
   "execution_count": 19,
   "metadata": {},
   "outputs": [
    {
     "name": "stdout",
     "output_type": "stream",
     "text": [
      "Sushi on Ethereum has 810 pairs\n"
     ]
    }
   ],
   "source": [
    "import pandas as pd\n",
    "from tradingstrategy.chain import ChainId\n",
    "\n",
    "# Convert PyArrow table to Pandas format to continue working on it\n",
    "all_pairs_dataframe = columnar_pair_table.to_pandas()\n",
    "\n",
    "# Filter down to pairs that only trade on Sushiswap\n",
    "sushi_swap = universe.get_by_chain_and_name(ChainId.ethereum, \"sushi\")\n",
    "sushi_pairs: pd.DataFrame = all_pairs_dataframe.loc[all_pairs_dataframe['exchange_id'] == sushi_swap.exchange_id]\n",
    "\n",
    "print(f\"Sushi on Ethereum has {len(sushi_pairs)} pairs\")"
   ]
  },
  {
   "cell_type": "code",
   "execution_count": 20,
   "metadata": {},
   "outputs": [
    {
     "name": "stdout",
     "output_type": "stream",
     "text": [
      "total_30d_volume column sum added\n"
     ]
    }
   ],
   "source": [
    "sushi_pairs = sushi_pairs.copy()\n",
    "total_volume_30d = sushi_pairs[\"buy_volume_30d\"] + sushi_pairs[\"sell_volume_30d\"]\n",
    "sushi_pairs[\"total_30d_volume\"] = total_volume_30d\n",
    "# Sort by highest volume first\n",
    "sushi_pairs = sushi_pairs.sort_values(\"total_30d_volume\", ascending=False)\n",
    "\n",
    "print(\"total_30d_volume column sum added\")"
   ]
  },
  {
   "cell_type": "code",
   "execution_count": 22,
   "metadata": {},
   "outputs": [
    {
     "name": "stderr",
     "output_type": "stream",
     "text": [
      "C:\\Users\\DESKTOP\\AppData\\Local\\Temp\\ipykernel_31552\\4064177701.py:16: FutureWarning: this method is deprecated in favour of `Styler.hide(axis=\"index\")`\n",
      "  }).hide_index()\n"
     ]
    },
    {
     "data": {
      "text/html": [
       "<style type=\"text/css\">\n",
       "</style>\n",
       "<table id=\"T_dfd12\">\n",
       "  <thead>\n",
       "    <tr>\n",
       "      <th id=\"T_dfd12_level0_col0\" class=\"col_heading level0 col0\" >Base token</th>\n",
       "      <th id=\"T_dfd12_level0_col1\" class=\"col_heading level0 col1\" >Quote token</th>\n",
       "      <th id=\"T_dfd12_level0_col2\" class=\"col_heading level0 col2\" >Volume 30d USD</th>\n",
       "    </tr>\n",
       "  </thead>\n",
       "  <tbody>\n",
       "    <tr>\n",
       "      <td id=\"T_dfd12_row0_col0\" class=\"data row0 col0\" >WETH</td>\n",
       "      <td id=\"T_dfd12_row0_col1\" class=\"data row0 col1\" >USDC</td>\n",
       "      <td id=\"T_dfd12_row0_col2\" class=\"data row0 col2\" >$84,757,200.00</td>\n",
       "    </tr>\n",
       "    <tr>\n",
       "      <td id=\"T_dfd12_row1_col0\" class=\"data row1 col0\" >LUNA</td>\n",
       "      <td id=\"T_dfd12_row1_col1\" class=\"data row1 col1\" >WETH</td>\n",
       "      <td id=\"T_dfd12_row1_col2\" class=\"data row1 col2\" >$83,835,640.00</td>\n",
       "    </tr>\n",
       "    <tr>\n",
       "      <td id=\"T_dfd12_row2_col0\" class=\"data row2 col0\" >CEL</td>\n",
       "      <td id=\"T_dfd12_row2_col1\" class=\"data row2 col1\" >WETH</td>\n",
       "      <td id=\"T_dfd12_row2_col2\" class=\"data row2 col2\" >$39,472,288.00</td>\n",
       "    </tr>\n",
       "    <tr>\n",
       "      <td id=\"T_dfd12_row3_col0\" class=\"data row3 col0\" >CVP</td>\n",
       "      <td id=\"T_dfd12_row3_col1\" class=\"data row3 col1\" >WETH</td>\n",
       "      <td id=\"T_dfd12_row3_col2\" class=\"data row3 col2\" >$37,817,524.00</td>\n",
       "    </tr>\n",
       "    <tr>\n",
       "      <td id=\"T_dfd12_row4_col0\" class=\"data row4 col0\" >WETH</td>\n",
       "      <td id=\"T_dfd12_row4_col1\" class=\"data row4 col1\" >USDT</td>\n",
       "      <td id=\"T_dfd12_row4_col2\" class=\"data row4 col2\" >$37,034,896.00</td>\n",
       "    </tr>\n",
       "    <tr>\n",
       "      <td id=\"T_dfd12_row5_col0\" class=\"data row5 col0\" >WETH</td>\n",
       "      <td id=\"T_dfd12_row5_col1\" class=\"data row5 col1\" >UST</td>\n",
       "      <td id=\"T_dfd12_row5_col2\" class=\"data row5 col2\" >$35,645,980.00</td>\n",
       "    </tr>\n",
       "    <tr>\n",
       "      <td id=\"T_dfd12_row6_col0\" class=\"data row6 col0\" >SYN</td>\n",
       "      <td id=\"T_dfd12_row6_col1\" class=\"data row6 col1\" >WETH</td>\n",
       "      <td id=\"T_dfd12_row6_col2\" class=\"data row6 col2\" >$33,053,244.00</td>\n",
       "    </tr>\n",
       "    <tr>\n",
       "      <td id=\"T_dfd12_row7_col0\" class=\"data row7 col0\" >SUSHI</td>\n",
       "      <td id=\"T_dfd12_row7_col1\" class=\"data row7 col1\" >WETH</td>\n",
       "      <td id=\"T_dfd12_row7_col2\" class=\"data row7 col2\" >$26,768,100.00</td>\n",
       "    </tr>\n",
       "    <tr>\n",
       "      <td id=\"T_dfd12_row8_col0\" class=\"data row8 col0\" >ILV</td>\n",
       "      <td id=\"T_dfd12_row8_col1\" class=\"data row8 col1\" >WETH</td>\n",
       "      <td id=\"T_dfd12_row8_col2\" class=\"data row8 col2\" >$22,474,072.00</td>\n",
       "    </tr>\n",
       "    <tr>\n",
       "      <td id=\"T_dfd12_row9_col0\" class=\"data row9 col0\" >RBIS</td>\n",
       "      <td id=\"T_dfd12_row9_col1\" class=\"data row9 col1\" >WETH</td>\n",
       "      <td id=\"T_dfd12_row9_col2\" class=\"data row9 col2\" >$21,087,714.00</td>\n",
       "    </tr>\n",
       "  </tbody>\n",
       "</table>\n"
      ],
      "text/plain": [
       "<pandas.io.formats.style.Styler at 0x14f1f488850>"
      ]
     },
     "execution_count": 22,
     "metadata": {},
     "output_type": "execute_result"
    }
   ],
   "source": [
    "output = sushi_pairs[[\"base_token_symbol\", \"quote_token_symbol\", \"total_30d_volume\"]].copy()\n",
    "\n",
    "output.style.format({\n",
    "  'total_30d_volume': lambda val: f'${val:,.2f}',\n",
    "})\n",
    "\n",
    "output = output.rename(columns={\n",
    "    'base_token_symbol': 'Base token',\n",
    "    'quote_token_symbol': 'Quote token',\n",
    "    'total_30d_volume': 'Volume 30d USD'})\n",
    "\n",
    "top_10 = output.head(10)\n",
    "\n",
    "top_10.style.format({\n",
    "  'Volume 30d USD': lambda val: f'${val:,.2f}',\n",
    "}).hide_index()"
   ]
  },
  {
   "cell_type": "markdown",
   "metadata": {},
   "source": [
    "Maybe it's better to use Sushi-ETH*ETH-USDC as Sushi-USDC data since Sushi-USDC itself is not that liquidated."
   ]
  },
  {
   "cell_type": "markdown",
   "metadata": {},
   "source": [
    "## Check Pair ID\n",
    "Pair id is something in trading strategy like a key to access each pair."
   ]
  },
  {
   "cell_type": "code",
   "execution_count": 23,
   "metadata": {},
   "outputs": [],
   "source": [
    "from tradingstrategy.timebucket import TimeBucket\n",
    "from tradingstrategy.pair import PandasPairUniverse\n",
    "\n",
    "raw_pairs = client.fetch_pair_universe().to_pandas()\n",
    "raw_liquidity_samples = client.fetch_all_liquidity_samples(TimeBucket.d1).to_pandas()\n",
    "\n",
    "pair_universe = PandasPairUniverse(raw_pairs)"
   ]
  },
  {
   "cell_type": "code",
   "execution_count": 24,
   "metadata": {},
   "outputs": [],
   "source": [
    "sushi_swap = universe.get_by_chain_and_name(ChainId.ethereum, \"sushi\")"
   ]
  },
  {
   "cell_type": "code",
   "execution_count": 25,
   "metadata": {},
   "outputs": [
    {
     "data": {
      "text/plain": [
       "<Pair #9262 SUSHI - WETH (0x795065dcc9f64b5614c407a6efdc400da6221fb0) at exchange #22 on ethereum>"
      ]
     },
     "execution_count": 25,
     "metadata": {},
     "output_type": "execute_result"
    }
   ],
   "source": [
    "pair_universe.get_one_pair_from_pandas_universe(sushi_swap.exchange_id, \"SUSHI\", \"WETH\")"
   ]
  },
  {
   "cell_type": "code",
   "execution_count": 64,
   "metadata": {},
   "outputs": [
    {
     "data": {
      "text/plain": [
       "<Pair #9261 WETH - USDC (0x397ff1542f962076d0bfe58ea045ffa2d347aca0) at exchange #22 on ethereum>"
      ]
     },
     "execution_count": 64,
     "metadata": {},
     "output_type": "execute_result"
    }
   ],
   "source": [
    "pair_universe.get_one_pair_from_pandas_universe(sushi_swap.exchange_id, \"WETH\", \"USDC\")"
   ]
  },
  {
   "cell_type": "code",
   "execution_count": 27,
   "metadata": {},
   "outputs": [
    {
     "data": {
      "text/plain": [
       "<Pair #9810 SUSHI - USDC (0xba87dc891945dbb3caeeaf822de208d7ea89b298) at exchange #22 on ethereum>"
      ]
     },
     "execution_count": 27,
     "metadata": {},
     "output_type": "execute_result"
    }
   ],
   "source": [
    "pair_universe.get_one_pair_from_pandas_universe(sushi_swap.exchange_id, \"SUSHI\", \"USDC\")"
   ]
  },
  {
   "cell_type": "markdown",
   "metadata": {},
   "source": [
    "## Download Candles"
   ]
  },
  {
   "cell_type": "code",
   "execution_count": 48,
   "metadata": {},
   "outputs": [],
   "source": [
    "from tradingstrategy.timebucket import TimeBucket\n",
    "\n",
    "# Download all 24h candles as Parquet columnar data\n",
    "all_candles = client.fetch_all_candles(TimeBucket.h1)"
   ]
  },
  {
   "cell_type": "code",
   "execution_count": 4,
   "metadata": {},
   "outputs": [],
   "source": [
    "import pyarrow.parquet as pq\n",
    "\n",
    "pq.write_table(all_candles, 'all_candles.parquet')"
   ]
  },
  {
   "cell_type": "code",
   "execution_count": 5,
   "metadata": {},
   "outputs": [],
   "source": [
    "all_candles_dataframe = all_candles.to_pandas()"
   ]
  },
  {
   "cell_type": "code",
   "execution_count": 49,
   "metadata": {},
   "outputs": [
    {
     "name": "stderr",
     "output_type": "stream",
     "text": [
      "C:\\Users\\DESKTOP\\AppData\\Local\\Temp\\ipykernel_31552\\3305148503.py:2: SettingWithCopyWarning: \n",
      "A value is trying to be set on a copy of a slice from a DataFrame.\n",
      "Try using .loc[row_indexer,col_indexer] = value instead\n",
      "\n",
      "See the caveats in the documentation: https://pandas.pydata.org/pandas-docs/stable/user_guide/indexing.html#returning-a-view-versus-a-copy\n",
      "  sushi_usdc['volume'] = sushi_usdc['buy_volume']+sushi_usdc['sell_volume']\n"
     ]
    }
   ],
   "source": [
    "sushi_usdc = all_candles_dataframe.loc[all_candles_dataframe['pair_id']==9810]\n",
    "sushi_usdc['volume'] = sushi_usdc['buy_volume']+sushi_usdc['sell_volume']\n",
    "sushi_usdc=sushi_usdc.set_index('timestamp')"
   ]
  },
  {
   "cell_type": "code",
   "execution_count": 50,
   "metadata": {},
   "outputs": [
    {
     "name": "stderr",
     "output_type": "stream",
     "text": [
      "C:\\Users\\DESKTOP\\AppData\\Local\\Temp\\ipykernel_31552\\2589540203.py:2: SettingWithCopyWarning: \n",
      "A value is trying to be set on a copy of a slice from a DataFrame.\n",
      "Try using .loc[row_indexer,col_indexer] = value instead\n",
      "\n",
      "See the caveats in the documentation: https://pandas.pydata.org/pandas-docs/stable/user_guide/indexing.html#returning-a-view-versus-a-copy\n",
      "  eth_usdc['volume'] = eth_usdc['buy_volume']+eth_usdc['sell_volume']\n"
     ]
    }
   ],
   "source": [
    "eth_usdc = all_candles_dataframe.loc[all_candles_dataframe['pair_id']==9261]\n",
    "eth_usdc['volume'] = eth_usdc['buy_volume']+eth_usdc['sell_volume']\n",
    "eth_usdc=eth_usdc.set_index('timestamp')\n"
   ]
  },
  {
   "cell_type": "code",
   "execution_count": 51,
   "metadata": {},
   "outputs": [
    {
     "name": "stderr",
     "output_type": "stream",
     "text": [
      "C:\\Users\\DESKTOP\\AppData\\Local\\Temp\\ipykernel_31552\\3619037984.py:2: SettingWithCopyWarning: \n",
      "A value is trying to be set on a copy of a slice from a DataFrame.\n",
      "Try using .loc[row_indexer,col_indexer] = value instead\n",
      "\n",
      "See the caveats in the documentation: https://pandas.pydata.org/pandas-docs/stable/user_guide/indexing.html#returning-a-view-versus-a-copy\n",
      "  sushi_eth['volume'] = sushi_eth['buy_volume']+sushi_eth['sell_volume']\n"
     ]
    }
   ],
   "source": [
    "sushi_eth = all_candles_dataframe.loc[all_candles_dataframe['pair_id']==9262]\n",
    "sushi_eth['volume'] = sushi_eth['buy_volume']+sushi_eth['sell_volume']\n",
    "sushi_eth=sushi_eth.set_index('timestamp')"
   ]
  },
  {
   "cell_type": "code",
   "execution_count": 52,
   "metadata": {},
   "outputs": [
    {
     "name": "stdout",
     "output_type": "stream",
     "text": [
      "1949\n"
     ]
    }
   ],
   "source": [
    "sushi_eth_merge = pd.merge(sushi_usdc['close'], eth_usdc['close'], left_index=True, right_index=True, suffixes=['_sushi','_eth'])\n",
    "print(len(sushi_eth_merge))"
   ]
  },
  {
   "cell_type": "code",
   "execution_count": 53,
   "metadata": {},
   "outputs": [
    {
     "name": "stdout",
     "output_type": "stream",
     "text": [
      "16831\n"
     ]
    }
   ],
   "source": [
    "sushi_eth_merge = pd.merge(eth_usdc['close'], sushi_eth['close'], left_index=True, right_index=True, suffixes=['_sushi','_eth'])\n",
    "print(len(sushi_eth_merge))"
   ]
  },
  {
   "cell_type": "code",
   "execution_count": 61,
   "metadata": {},
   "outputs": [
    {
     "data": {
      "text/html": [
       "<div>\n",
       "<style scoped>\n",
       "    .dataframe tbody tr th:only-of-type {\n",
       "        vertical-align: middle;\n",
       "    }\n",
       "\n",
       "    .dataframe tbody tr th {\n",
       "        vertical-align: top;\n",
       "    }\n",
       "\n",
       "    .dataframe thead th {\n",
       "        text-align: right;\n",
       "    }\n",
       "</style>\n",
       "<table border=\"1\" class=\"dataframe\">\n",
       "  <thead>\n",
       "    <tr style=\"text-align: right;\">\n",
       "      <th></th>\n",
       "      <th>pair_id</th>\n",
       "      <th>exchange_rate</th>\n",
       "      <th>open</th>\n",
       "      <th>close</th>\n",
       "      <th>high</th>\n",
       "      <th>low</th>\n",
       "      <th>buys</th>\n",
       "      <th>sells</th>\n",
       "      <th>buy_volume</th>\n",
       "      <th>sell_volume</th>\n",
       "      <th>avg</th>\n",
       "      <th>start_block</th>\n",
       "      <th>end_block</th>\n",
       "      <th>volume</th>\n",
       "    </tr>\n",
       "    <tr>\n",
       "      <th>timestamp</th>\n",
       "      <th></th>\n",
       "      <th></th>\n",
       "      <th></th>\n",
       "      <th></th>\n",
       "      <th></th>\n",
       "      <th></th>\n",
       "      <th></th>\n",
       "      <th></th>\n",
       "      <th></th>\n",
       "      <th></th>\n",
       "      <th></th>\n",
       "      <th></th>\n",
       "      <th></th>\n",
       "      <th></th>\n",
       "    </tr>\n",
       "  </thead>\n",
       "  <tbody>\n",
       "    <tr>\n",
       "      <th>2020-09-09 19:00:00</th>\n",
       "      <td>9262</td>\n",
       "      <td>359.647797</td>\n",
       "      <td>3.052969</td>\n",
       "      <td>2.866729</td>\n",
       "      <td>3.053297</td>\n",
       "      <td>2.864931</td>\n",
       "      <td>41</td>\n",
       "      <td>94</td>\n",
       "      <td>3.029540e+05</td>\n",
       "      <td>2.476766e+06</td>\n",
       "      <td>0.008241</td>\n",
       "      <td>10829341</td>\n",
       "      <td>10829571</td>\n",
       "      <td>2.779720e+06</td>\n",
       "    </tr>\n",
       "    <tr>\n",
       "      <th>2020-09-09 20:00:00</th>\n",
       "      <td>9262</td>\n",
       "      <td>357.330719</td>\n",
       "      <td>2.866030</td>\n",
       "      <td>2.784903</td>\n",
       "      <td>2.867045</td>\n",
       "      <td>2.774082</td>\n",
       "      <td>33</td>\n",
       "      <td>91</td>\n",
       "      <td>1.067059e+06</td>\n",
       "      <td>1.637232e+06</td>\n",
       "      <td>0.007877</td>\n",
       "      <td>10829576</td>\n",
       "      <td>10829846</td>\n",
       "      <td>2.704291e+06</td>\n",
       "    </tr>\n",
       "    <tr>\n",
       "      <th>2020-09-09 21:00:00</th>\n",
       "      <td>9262</td>\n",
       "      <td>355.744598</td>\n",
       "      <td>2.771499</td>\n",
       "      <td>2.781855</td>\n",
       "      <td>2.801418</td>\n",
       "      <td>2.771499</td>\n",
       "      <td>40</td>\n",
       "      <td>54</td>\n",
       "      <td>4.252561e+05</td>\n",
       "      <td>6.672722e+05</td>\n",
       "      <td>0.007827</td>\n",
       "      <td>10829858</td>\n",
       "      <td>10830121</td>\n",
       "      <td>1.092528e+06</td>\n",
       "    </tr>\n",
       "    <tr>\n",
       "      <th>2020-09-09 22:00:00</th>\n",
       "      <td>9262</td>\n",
       "      <td>356.252808</td>\n",
       "      <td>2.780357</td>\n",
       "      <td>2.835084</td>\n",
       "      <td>2.848392</td>\n",
       "      <td>2.780357</td>\n",
       "      <td>76</td>\n",
       "      <td>47</td>\n",
       "      <td>1.421558e+06</td>\n",
       "      <td>6.617590e+05</td>\n",
       "      <td>0.007920</td>\n",
       "      <td>10830127</td>\n",
       "      <td>10830376</td>\n",
       "      <td>2.083318e+06</td>\n",
       "    </tr>\n",
       "    <tr>\n",
       "      <th>2020-09-09 23:00:00</th>\n",
       "      <td>9262</td>\n",
       "      <td>355.006378</td>\n",
       "      <td>2.835865</td>\n",
       "      <td>2.850358</td>\n",
       "      <td>2.894154</td>\n",
       "      <td>2.820720</td>\n",
       "      <td>43</td>\n",
       "      <td>86</td>\n",
       "      <td>1.820479e+06</td>\n",
       "      <td>1.277800e+06</td>\n",
       "      <td>0.008057</td>\n",
       "      <td>10830382</td>\n",
       "      <td>10830651</td>\n",
       "      <td>3.098280e+06</td>\n",
       "    </tr>\n",
       "    <tr>\n",
       "      <th>...</th>\n",
       "      <td>...</td>\n",
       "      <td>...</td>\n",
       "      <td>...</td>\n",
       "      <td>...</td>\n",
       "      <td>...</td>\n",
       "      <td>...</td>\n",
       "      <td>...</td>\n",
       "      <td>...</td>\n",
       "      <td>...</td>\n",
       "      <td>...</td>\n",
       "      <td>...</td>\n",
       "      <td>...</td>\n",
       "      <td>...</td>\n",
       "      <td>...</td>\n",
       "    </tr>\n",
       "    <tr>\n",
       "      <th>2022-08-20 04:00:00</th>\n",
       "      <td>9262</td>\n",
       "      <td>1628.919556</td>\n",
       "      <td>1.202151</td>\n",
       "      <td>1.196493</td>\n",
       "      <td>1.202151</td>\n",
       "      <td>1.196493</td>\n",
       "      <td>2</td>\n",
       "      <td>2</td>\n",
       "      <td>4.309409e+03</td>\n",
       "      <td>4.574720e+03</td>\n",
       "      <td>0.000737</td>\n",
       "      <td>15375453</td>\n",
       "      <td>15375537</td>\n",
       "      <td>8.884129e+03</td>\n",
       "    </tr>\n",
       "    <tr>\n",
       "      <th>2022-08-20 05:00:00</th>\n",
       "      <td>9262</td>\n",
       "      <td>1639.221558</td>\n",
       "      <td>1.200901</td>\n",
       "      <td>1.201418</td>\n",
       "      <td>1.209376</td>\n",
       "      <td>1.200901</td>\n",
       "      <td>0</td>\n",
       "      <td>4</td>\n",
       "      <td>0.000000e+00</td>\n",
       "      <td>8.319121e+03</td>\n",
       "      <td>0.000734</td>\n",
       "      <td>15375699</td>\n",
       "      <td>15375891</td>\n",
       "      <td>8.319121e+03</td>\n",
       "    </tr>\n",
       "    <tr>\n",
       "      <th>2022-08-20 06:00:00</th>\n",
       "      <td>9262</td>\n",
       "      <td>1640.021729</td>\n",
       "      <td>1.198095</td>\n",
       "      <td>1.211688</td>\n",
       "      <td>1.211688</td>\n",
       "      <td>1.198095</td>\n",
       "      <td>2</td>\n",
       "      <td>1</td>\n",
       "      <td>3.200384e+03</td>\n",
       "      <td>5.189347e+01</td>\n",
       "      <td>0.000734</td>\n",
       "      <td>15376056</td>\n",
       "      <td>15376168</td>\n",
       "      <td>3.252278e+03</td>\n",
       "    </tr>\n",
       "    <tr>\n",
       "      <th>2022-08-20 07:00:00</th>\n",
       "      <td>9262</td>\n",
       "      <td>1643.732056</td>\n",
       "      <td>1.209745</td>\n",
       "      <td>1.209674</td>\n",
       "      <td>1.212016</td>\n",
       "      <td>1.209674</td>\n",
       "      <td>2</td>\n",
       "      <td>2</td>\n",
       "      <td>8.942682e+03</td>\n",
       "      <td>8.604919e+02</td>\n",
       "      <td>0.000736</td>\n",
       "      <td>15376222</td>\n",
       "      <td>15376342</td>\n",
       "      <td>9.803174e+03</td>\n",
       "    </tr>\n",
       "    <tr>\n",
       "      <th>2022-08-20 08:00:00</th>\n",
       "      <td>9262</td>\n",
       "      <td>1648.573975</td>\n",
       "      <td>1.211114</td>\n",
       "      <td>1.219218</td>\n",
       "      <td>1.219218</td>\n",
       "      <td>1.211114</td>\n",
       "      <td>1</td>\n",
       "      <td>1</td>\n",
       "      <td>3.369742e+03</td>\n",
       "      <td>2.020417e+01</td>\n",
       "      <td>0.000737</td>\n",
       "      <td>15376522</td>\n",
       "      <td>15376576</td>\n",
       "      <td>3.389946e+03</td>\n",
       "    </tr>\n",
       "  </tbody>\n",
       "</table>\n",
       "<p>16831 rows × 14 columns</p>\n",
       "</div>"
      ],
      "text/plain": [
       "                     pair_id  exchange_rate      open     close      high  \\\n",
       "timestamp                                                                   \n",
       "2020-09-09 19:00:00     9262     359.647797  3.052969  2.866729  3.053297   \n",
       "2020-09-09 20:00:00     9262     357.330719  2.866030  2.784903  2.867045   \n",
       "2020-09-09 21:00:00     9262     355.744598  2.771499  2.781855  2.801418   \n",
       "2020-09-09 22:00:00     9262     356.252808  2.780357  2.835084  2.848392   \n",
       "2020-09-09 23:00:00     9262     355.006378  2.835865  2.850358  2.894154   \n",
       "...                      ...            ...       ...       ...       ...   \n",
       "2022-08-20 04:00:00     9262    1628.919556  1.202151  1.196493  1.202151   \n",
       "2022-08-20 05:00:00     9262    1639.221558  1.200901  1.201418  1.209376   \n",
       "2022-08-20 06:00:00     9262    1640.021729  1.198095  1.211688  1.211688   \n",
       "2022-08-20 07:00:00     9262    1643.732056  1.209745  1.209674  1.212016   \n",
       "2022-08-20 08:00:00     9262    1648.573975  1.211114  1.219218  1.219218   \n",
       "\n",
       "                          low  buys  sells    buy_volume   sell_volume  \\\n",
       "timestamp                                                                \n",
       "2020-09-09 19:00:00  2.864931    41     94  3.029540e+05  2.476766e+06   \n",
       "2020-09-09 20:00:00  2.774082    33     91  1.067059e+06  1.637232e+06   \n",
       "2020-09-09 21:00:00  2.771499    40     54  4.252561e+05  6.672722e+05   \n",
       "2020-09-09 22:00:00  2.780357    76     47  1.421558e+06  6.617590e+05   \n",
       "2020-09-09 23:00:00  2.820720    43     86  1.820479e+06  1.277800e+06   \n",
       "...                       ...   ...    ...           ...           ...   \n",
       "2022-08-20 04:00:00  1.196493     2      2  4.309409e+03  4.574720e+03   \n",
       "2022-08-20 05:00:00  1.200901     0      4  0.000000e+00  8.319121e+03   \n",
       "2022-08-20 06:00:00  1.198095     2      1  3.200384e+03  5.189347e+01   \n",
       "2022-08-20 07:00:00  1.209674     2      2  8.942682e+03  8.604919e+02   \n",
       "2022-08-20 08:00:00  1.211114     1      1  3.369742e+03  2.020417e+01   \n",
       "\n",
       "                          avg  start_block  end_block        volume  \n",
       "timestamp                                                            \n",
       "2020-09-09 19:00:00  0.008241     10829341   10829571  2.779720e+06  \n",
       "2020-09-09 20:00:00  0.007877     10829576   10829846  2.704291e+06  \n",
       "2020-09-09 21:00:00  0.007827     10829858   10830121  1.092528e+06  \n",
       "2020-09-09 22:00:00  0.007920     10830127   10830376  2.083318e+06  \n",
       "2020-09-09 23:00:00  0.008057     10830382   10830651  3.098280e+06  \n",
       "...                       ...          ...        ...           ...  \n",
       "2022-08-20 04:00:00  0.000737     15375453   15375537  8.884129e+03  \n",
       "2022-08-20 05:00:00  0.000734     15375699   15375891  8.319121e+03  \n",
       "2022-08-20 06:00:00  0.000734     15376056   15376168  3.252278e+03  \n",
       "2022-08-20 07:00:00  0.000736     15376222   15376342  9.803174e+03  \n",
       "2022-08-20 08:00:00  0.000737     15376522   15376576  3.389946e+03  \n",
       "\n",
       "[16831 rows x 14 columns]"
      ]
     },
     "execution_count": 61,
     "metadata": {},
     "output_type": "execute_result"
    }
   ],
   "source": [
    "sushi_eth"
   ]
  },
  {
   "cell_type": "markdown",
   "metadata": {},
   "source": [
    "Better to use Sushi-ETH*ETH-USDC"
   ]
  },
  {
   "cell_type": "code",
   "execution_count": 54,
   "metadata": {},
   "outputs": [],
   "source": [
    "sushi_eth = sushi_eth.reindex(sushi_eth_merge.index)\n",
    "eth_usdc = eth_usdc.reindex(sushi_eth_merge.index)\n"
   ]
  },
  {
   "cell_type": "code",
   "execution_count": 62,
   "metadata": {},
   "outputs": [],
   "source": [
    "sushi_usdc = pd.DataFrame(columns=sushi_eth.columns, index=sushi_eth.index)\n",
    "sushi_usdc[['open','close','high','low']] = sushi_eth[['open','close','high','low']]*eth_usdc[['open','close','high','low']]\n",
    "sushi_usdc['volume'] = sushi_eth['volume']+eth_usdc['volume']\n",
    "sushi_usdc[['open','close','high','low','volume']].to_csv('sushi_usdc.csv')"
   ]
  },
  {
   "cell_type": "code",
   "execution_count": 56,
   "metadata": {},
   "outputs": [],
   "source": [
    "eth_usdc[['open','close','high','low','volume']].to_csv('eth_usdc.csv')"
   ]
  },
  {
   "cell_type": "markdown",
   "metadata": {},
   "source": []
  },
  {
   "cell_type": "code",
   "execution_count": 63,
   "metadata": {},
   "outputs": [
    {
     "data": {
      "text/html": [
       "<div>\n",
       "<style scoped>\n",
       "    .dataframe tbody tr th:only-of-type {\n",
       "        vertical-align: middle;\n",
       "    }\n",
       "\n",
       "    .dataframe tbody tr th {\n",
       "        vertical-align: top;\n",
       "    }\n",
       "\n",
       "    .dataframe thead th {\n",
       "        text-align: right;\n",
       "    }\n",
       "</style>\n",
       "<table border=\"1\" class=\"dataframe\">\n",
       "  <thead>\n",
       "    <tr style=\"text-align: right;\">\n",
       "      <th></th>\n",
       "      <th>pair_id</th>\n",
       "      <th>exchange_rate</th>\n",
       "      <th>open</th>\n",
       "      <th>close</th>\n",
       "      <th>high</th>\n",
       "      <th>low</th>\n",
       "      <th>buys</th>\n",
       "      <th>sells</th>\n",
       "      <th>buy_volume</th>\n",
       "      <th>sell_volume</th>\n",
       "      <th>avg</th>\n",
       "      <th>start_block</th>\n",
       "      <th>end_block</th>\n",
       "      <th>volume</th>\n",
       "    </tr>\n",
       "    <tr>\n",
       "      <th>timestamp</th>\n",
       "      <th></th>\n",
       "      <th></th>\n",
       "      <th></th>\n",
       "      <th></th>\n",
       "      <th></th>\n",
       "      <th></th>\n",
       "      <th></th>\n",
       "      <th></th>\n",
       "      <th></th>\n",
       "      <th></th>\n",
       "      <th></th>\n",
       "      <th></th>\n",
       "      <th></th>\n",
       "      <th></th>\n",
       "    </tr>\n",
       "  </thead>\n",
       "  <tbody>\n",
       "    <tr>\n",
       "      <th>2020-09-09 19:00:00</th>\n",
       "      <td>NaN</td>\n",
       "      <td>NaN</td>\n",
       "      <td>1098.324341</td>\n",
       "      <td>1027.153442</td>\n",
       "      <td>1098.442139</td>\n",
       "      <td>1024.730103</td>\n",
       "      <td>NaN</td>\n",
       "      <td>NaN</td>\n",
       "      <td>NaN</td>\n",
       "      <td>NaN</td>\n",
       "      <td>NaN</td>\n",
       "      <td>NaN</td>\n",
       "      <td>NaN</td>\n",
       "      <td>3.334587e+06</td>\n",
       "    </tr>\n",
       "    <tr>\n",
       "      <th>2020-09-09 20:00:00</th>\n",
       "      <td>NaN</td>\n",
       "      <td>NaN</td>\n",
       "      <td>1026.515991</td>\n",
       "      <td>986.261597</td>\n",
       "      <td>1029.403931</td>\n",
       "      <td>981.632202</td>\n",
       "      <td>NaN</td>\n",
       "      <td>NaN</td>\n",
       "      <td>NaN</td>\n",
       "      <td>NaN</td>\n",
       "      <td>NaN</td>\n",
       "      <td>NaN</td>\n",
       "      <td>NaN</td>\n",
       "      <td>3.900282e+06</td>\n",
       "    </tr>\n",
       "    <tr>\n",
       "      <th>2020-09-09 21:00:00</th>\n",
       "      <td>NaN</td>\n",
       "      <td>NaN</td>\n",
       "      <td>981.422180</td>\n",
       "      <td>990.119446</td>\n",
       "      <td>1005.434631</td>\n",
       "      <td>976.647522</td>\n",
       "      <td>NaN</td>\n",
       "      <td>NaN</td>\n",
       "      <td>NaN</td>\n",
       "      <td>NaN</td>\n",
       "      <td>NaN</td>\n",
       "      <td>NaN</td>\n",
       "      <td>NaN</td>\n",
       "      <td>2.269460e+06</td>\n",
       "    </tr>\n",
       "    <tr>\n",
       "      <th>2020-09-09 22:00:00</th>\n",
       "      <td>NaN</td>\n",
       "      <td>NaN</td>\n",
       "      <td>989.232422</td>\n",
       "      <td>1005.981018</td>\n",
       "      <td>1013.748352</td>\n",
       "      <td>981.842102</td>\n",
       "      <td>NaN</td>\n",
       "      <td>NaN</td>\n",
       "      <td>NaN</td>\n",
       "      <td>NaN</td>\n",
       "      <td>NaN</td>\n",
       "      <td>NaN</td>\n",
       "      <td>NaN</td>\n",
       "      <td>2.878710e+06</td>\n",
       "    </tr>\n",
       "    <tr>\n",
       "      <th>2020-09-09 23:00:00</th>\n",
       "      <td>NaN</td>\n",
       "      <td>NaN</td>\n",
       "      <td>1007.145752</td>\n",
       "      <td>1005.840698</td>\n",
       "      <td>1028.298218</td>\n",
       "      <td>990.338013</td>\n",
       "      <td>NaN</td>\n",
       "      <td>NaN</td>\n",
       "      <td>NaN</td>\n",
       "      <td>NaN</td>\n",
       "      <td>NaN</td>\n",
       "      <td>NaN</td>\n",
       "      <td>NaN</td>\n",
       "      <td>4.017900e+06</td>\n",
       "    </tr>\n",
       "    <tr>\n",
       "      <th>...</th>\n",
       "      <td>...</td>\n",
       "      <td>...</td>\n",
       "      <td>...</td>\n",
       "      <td>...</td>\n",
       "      <td>...</td>\n",
       "      <td>...</td>\n",
       "      <td>...</td>\n",
       "      <td>...</td>\n",
       "      <td>...</td>\n",
       "      <td>...</td>\n",
       "      <td>...</td>\n",
       "      <td>...</td>\n",
       "      <td>...</td>\n",
       "      <td>...</td>\n",
       "    </tr>\n",
       "    <tr>\n",
       "      <th>2022-08-20 04:00:00</th>\n",
       "      <td>NaN</td>\n",
       "      <td>NaN</td>\n",
       "      <td>1955.522827</td>\n",
       "      <td>1967.195190</td>\n",
       "      <td>1976.497192</td>\n",
       "      <td>1942.261597</td>\n",
       "      <td>NaN</td>\n",
       "      <td>NaN</td>\n",
       "      <td>NaN</td>\n",
       "      <td>NaN</td>\n",
       "      <td>NaN</td>\n",
       "      <td>NaN</td>\n",
       "      <td>NaN</td>\n",
       "      <td>2.922379e+05</td>\n",
       "    </tr>\n",
       "    <tr>\n",
       "      <th>2022-08-20 05:00:00</th>\n",
       "      <td>NaN</td>\n",
       "      <td>NaN</td>\n",
       "      <td>1975.574707</td>\n",
       "      <td>1970.000488</td>\n",
       "      <td>1989.517334</td>\n",
       "      <td>1963.135132</td>\n",
       "      <td>NaN</td>\n",
       "      <td>NaN</td>\n",
       "      <td>NaN</td>\n",
       "      <td>NaN</td>\n",
       "      <td>NaN</td>\n",
       "      <td>NaN</td>\n",
       "      <td>NaN</td>\n",
       "      <td>2.161758e+05</td>\n",
       "    </tr>\n",
       "    <tr>\n",
       "      <th>2022-08-20 06:00:00</th>\n",
       "      <td>NaN</td>\n",
       "      <td>NaN</td>\n",
       "      <td>1964.481323</td>\n",
       "      <td>1994.408936</td>\n",
       "      <td>1994.408936</td>\n",
       "      <td>1959.791138</td>\n",
       "      <td>NaN</td>\n",
       "      <td>NaN</td>\n",
       "      <td>NaN</td>\n",
       "      <td>NaN</td>\n",
       "      <td>NaN</td>\n",
       "      <td>NaN</td>\n",
       "      <td>NaN</td>\n",
       "      <td>1.959464e+05</td>\n",
       "    </tr>\n",
       "    <tr>\n",
       "      <th>2022-08-20 07:00:00</th>\n",
       "      <td>NaN</td>\n",
       "      <td>NaN</td>\n",
       "      <td>1992.379761</td>\n",
       "      <td>1997.190918</td>\n",
       "      <td>2002.700928</td>\n",
       "      <td>1992.263916</td>\n",
       "      <td>NaN</td>\n",
       "      <td>NaN</td>\n",
       "      <td>NaN</td>\n",
       "      <td>NaN</td>\n",
       "      <td>NaN</td>\n",
       "      <td>NaN</td>\n",
       "      <td>NaN</td>\n",
       "      <td>1.461189e+05</td>\n",
       "    </tr>\n",
       "    <tr>\n",
       "      <th>2022-08-20 08:00:00</th>\n",
       "      <td>NaN</td>\n",
       "      <td>NaN</td>\n",
       "      <td>1999.513916</td>\n",
       "      <td>2001.306152</td>\n",
       "      <td>2013.132080</td>\n",
       "      <td>1987.991943</td>\n",
       "      <td>NaN</td>\n",
       "      <td>NaN</td>\n",
       "      <td>NaN</td>\n",
       "      <td>NaN</td>\n",
       "      <td>NaN</td>\n",
       "      <td>NaN</td>\n",
       "      <td>NaN</td>\n",
       "      <td>9.057501e+04</td>\n",
       "    </tr>\n",
       "  </tbody>\n",
       "</table>\n",
       "<p>16831 rows × 14 columns</p>\n",
       "</div>"
      ],
      "text/plain": [
       "                    pair_id exchange_rate         open        close  \\\n",
       "timestamp                                                             \n",
       "2020-09-09 19:00:00     NaN           NaN  1098.324341  1027.153442   \n",
       "2020-09-09 20:00:00     NaN           NaN  1026.515991   986.261597   \n",
       "2020-09-09 21:00:00     NaN           NaN   981.422180   990.119446   \n",
       "2020-09-09 22:00:00     NaN           NaN   989.232422  1005.981018   \n",
       "2020-09-09 23:00:00     NaN           NaN  1007.145752  1005.840698   \n",
       "...                     ...           ...          ...          ...   \n",
       "2022-08-20 04:00:00     NaN           NaN  1955.522827  1967.195190   \n",
       "2022-08-20 05:00:00     NaN           NaN  1975.574707  1970.000488   \n",
       "2022-08-20 06:00:00     NaN           NaN  1964.481323  1994.408936   \n",
       "2022-08-20 07:00:00     NaN           NaN  1992.379761  1997.190918   \n",
       "2022-08-20 08:00:00     NaN           NaN  1999.513916  2001.306152   \n",
       "\n",
       "                            high          low buys sells buy_volume  \\\n",
       "timestamp                                                             \n",
       "2020-09-09 19:00:00  1098.442139  1024.730103  NaN   NaN        NaN   \n",
       "2020-09-09 20:00:00  1029.403931   981.632202  NaN   NaN        NaN   \n",
       "2020-09-09 21:00:00  1005.434631   976.647522  NaN   NaN        NaN   \n",
       "2020-09-09 22:00:00  1013.748352   981.842102  NaN   NaN        NaN   \n",
       "2020-09-09 23:00:00  1028.298218   990.338013  NaN   NaN        NaN   \n",
       "...                          ...          ...  ...   ...        ...   \n",
       "2022-08-20 04:00:00  1976.497192  1942.261597  NaN   NaN        NaN   \n",
       "2022-08-20 05:00:00  1989.517334  1963.135132  NaN   NaN        NaN   \n",
       "2022-08-20 06:00:00  1994.408936  1959.791138  NaN   NaN        NaN   \n",
       "2022-08-20 07:00:00  2002.700928  1992.263916  NaN   NaN        NaN   \n",
       "2022-08-20 08:00:00  2013.132080  1987.991943  NaN   NaN        NaN   \n",
       "\n",
       "                    sell_volume  avg start_block end_block        volume  \n",
       "timestamp                                                                 \n",
       "2020-09-09 19:00:00         NaN  NaN         NaN       NaN  3.334587e+06  \n",
       "2020-09-09 20:00:00         NaN  NaN         NaN       NaN  3.900282e+06  \n",
       "2020-09-09 21:00:00         NaN  NaN         NaN       NaN  2.269460e+06  \n",
       "2020-09-09 22:00:00         NaN  NaN         NaN       NaN  2.878710e+06  \n",
       "2020-09-09 23:00:00         NaN  NaN         NaN       NaN  4.017900e+06  \n",
       "...                         ...  ...         ...       ...           ...  \n",
       "2022-08-20 04:00:00         NaN  NaN         NaN       NaN  2.922379e+05  \n",
       "2022-08-20 05:00:00         NaN  NaN         NaN       NaN  2.161758e+05  \n",
       "2022-08-20 06:00:00         NaN  NaN         NaN       NaN  1.959464e+05  \n",
       "2022-08-20 07:00:00         NaN  NaN         NaN       NaN  1.461189e+05  \n",
       "2022-08-20 08:00:00         NaN  NaN         NaN       NaN  9.057501e+04  \n",
       "\n",
       "[16831 rows x 14 columns]"
      ]
     },
     "execution_count": 63,
     "metadata": {},
     "output_type": "execute_result"
    }
   ],
   "source": [
    "sushi_usdc"
   ]
  },
  {
   "cell_type": "code",
   "execution_count": null,
   "metadata": {},
   "outputs": [],
   "source": []
  }
 ],
 "metadata": {
  "kernelspec": {
   "display_name": "Python 3.10.6 ('py310')",
   "language": "python",
   "name": "python3"
  },
  "language_info": {
   "codemirror_mode": {
    "name": "ipython",
    "version": 3
   },
   "file_extension": ".py",
   "mimetype": "text/x-python",
   "name": "python",
   "nbconvert_exporter": "python",
   "pygments_lexer": "ipython3",
   "version": "3.10.6"
  },
  "orig_nbformat": 4,
  "vscode": {
   "interpreter": {
    "hash": "ca6839ddb361beefdb01395b7f840e18c73cc41c530084a3d62ff3d0d09b9cc6"
   }
  }
 },
 "nbformat": 4,
 "nbformat_minor": 2
}
